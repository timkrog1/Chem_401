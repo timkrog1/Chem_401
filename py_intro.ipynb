{
 "cells": [
  {
   "cell_type": "markdown",
   "id": "d1ee34e5",
   "metadata": {},
   "source": [
    "# A Brief Introduction to Python"
   ]
  },
  {
   "cell_type": "markdown",
   "id": "734f4cbe",
   "metadata": {},
   "source": [
    "This section will introduce several elements of python that may be useful in subsequent lessons. No python is necessary to understand the math sections, and so this section can be skipped if you don't want to learn about python."
   ]
  },
  {
   "cell_type": "markdown",
   "id": "d822dea0",
   "metadata": {},
   "source": [
    "Python variables are created when a value is assigned to them, a process called **dynamic typing**. Variable names must start with a letter or underscore, and are case sensitive."
   ]
  },
  {
   "cell_type": "code",
   "execution_count": 1,
   "id": "7e4729d0",
   "metadata": {},
   "outputs": [
    {
     "name": "stdout",
     "output_type": "stream",
     "text": [
      "5\n",
      "\n",
      "7\n",
      "\n",
      "9\n",
      "\n",
      "11\n"
     ]
    }
   ],
   "source": [
    "# To create a variable, type the name of the variable, an equal sign, and the value to assign to it.\n",
    "# Note that the pound sign, #, is a comment and will not be read by python.\n",
    "\n",
    "x = 5\n",
    "\n",
    "# To print the value of the variable, type print(variable_name)\n",
    "\n",
    "print(x)\n",
    "\n",
    "# To update the variable, rewrite the variable name, equal sign, and the new value to assign to it.\n",
    "\n",
    "x = 7\n",
    "\n",
    "print() # prints a blank line\n",
    "\n",
    "print(x)\n",
    "print()\n",
    "\n",
    "# Or, update the variable directly.\n",
    "\n",
    "x = x + 2\n",
    "\n",
    "print(x)\n",
    "print()\n",
    "\n",
    "# This is equivalent syntax to the above. \n",
    "\n",
    "x += 2\n",
    "\n",
    "print(x)"
   ]
  },
  {
   "cell_type": "markdown",
   "id": "7871a28c",
   "metadata": {},
   "source": [
    "#### The + , - , / , * , and ** operators can be used on variables to perform computation."
   ]
  },
  {
   "cell_type": "code",
   "execution_count": 2,
   "id": "618bf09a",
   "metadata": {},
   "outputs": [
    {
     "name": "stdout",
     "output_type": "stream",
     "text": [
      "7\n",
      "\n",
      "-3\n",
      "\n",
      "5.0\n",
      "\n",
      "-5.0\n",
      "\n",
      "25\n",
      "\n",
      "31.0\n"
     ]
    }
   ],
   "source": [
    "x = 5\n",
    "\n",
    "y = 2\n",
    "\n",
    "print(x + y)\n",
    "print()\n",
    "print(x - 4*y)\n",
    "print()\n",
    "print(2*x / y)\n",
    "print()\n",
    "print(x * -0.5*y)\n",
    "print()\n",
    "print(x ** y)\n",
    "print()\n",
    "\n",
    "# The value of an operator can also be assigned to a new variable.\n",
    "\n",
    "z = 6*x + 0.5*y\n",
    "\n",
    "print(z)"
   ]
  },
  {
   "cell_type": "markdown",
   "id": "cd4f3d75",
   "metadata": {},
   "source": [
    "#### Importantly, variables can also contain strings as values rather than integers or floats."
   ]
  },
  {
   "cell_type": "code",
   "execution_count": 5,
   "id": "21ebbe7e",
   "metadata": {},
   "outputs": [
    {
     "name": "stdout",
     "output_type": "stream",
     "text": [
      "hello\n",
      "\n",
      "helloworld\n",
      "\n",
      "hello world\n",
      "\n",
      "hello world!\n"
     ]
    }
   ],
   "source": [
    "# To assign a string to a variable, enclose the string in ''\n",
    "\n",
    "x = 'hello'\n",
    "\n",
    "print(x)\n",
    "print()\n",
    "\n",
    "# Strings can be concatenated\n",
    "\n",
    "y = 'world'\n",
    "\n",
    "print(x + y)\n",
    "print()\n",
    "\n",
    "# Add a space between the two words\n",
    "\n",
    "print(x + ' ' + y)\n",
    "print()\n",
    "\n",
    "# Assign the above output to a new variable\n",
    "\n",
    "z = x + ' ' + y + '!'\n",
    "\n",
    "print(z)"
   ]
  },
  {
   "cell_type": "markdown",
   "id": "1c24f3ab",
   "metadata": {},
   "source": [
    "#### One important data type in python is a list. Lists are ordered, mutable, and allow elements to be duplicates of one another. "
   ]
  },
  {
   "cell_type": "code",
   "execution_count": 6,
   "id": "9c09c5ea",
   "metadata": {},
   "outputs": [
    {
     "name": "stdout",
     "output_type": "stream",
     "text": [
      "['chemistry', 'quantum', 'fun', 'classes', 'bears', 'WashU']\n",
      "\n",
      "6\n",
      "\n",
      "chemistry\n",
      "quantum\n",
      "bears\n",
      "WashU\n",
      "\n",
      "quantum chemistry\n",
      "\n",
      "['chemistry', 'quantum', 'fun', 'classes', 'bears', 'WashU', 'new']\n",
      "\n",
      "7\n",
      "\n",
      "['chemistry', 'quantum', 'item', 'fun', 'classes', 'bears', 'WashU', 'new']\n",
      "\n",
      "8\n",
      "\n"
     ]
    }
   ],
   "source": [
    "# To create a list:\n",
    "\n",
    "my_list = ['chemistry','quantum','fun','classes','bears','WashU']\n",
    "\n",
    "print(my_list)\n",
    "print()\n",
    "print(len(my_list)) # utilizes a built-in python function that returns the length of a list\n",
    "print()\n",
    "\n",
    "# Each element has a unique index, which can be accessed as follows:\n",
    "print(my_list[0]) # Note that the first element of a list in python is referenced with index 0\n",
    "print(my_list[1])\n",
    "print(my_list[4])\n",
    "print(my_list[-1]) # The last element can be accessed using the index -1\n",
    "print()\n",
    "\n",
    "print(my_list[1] + ' ' + my_list[0])\n",
    "print()\n",
    "\n",
    "# Things can be appended to the end of a list, or inserted in a specific location.\n",
    "# This updates the index of all the elements of the list.\n",
    "\n",
    "my_list.append('new')\n",
    "print(my_list)\n",
    "print()\n",
    "print(len(my_list))\n",
    "print()\n",
    "\n",
    "my_list.insert(2,'item')\n",
    "print(my_list)\n",
    "print()\n",
    "print(len(my_list))\n",
    "print()"
   ]
  },
  {
   "cell_type": "markdown",
   "id": "2a0731e6",
   "metadata": {},
   "source": [
    "#### Lists can contain multiple data types."
   ]
  },
  {
   "cell_type": "code",
   "execution_count": 7,
   "id": "af6915a3",
   "metadata": {},
   "outputs": [
    {
     "name": "stdout",
     "output_type": "stream",
     "text": [
      "data\n",
      "12.8\n"
     ]
    }
   ],
   "source": [
    "new_list = ['data',12.8,-5,'textbook']\n",
    "\n",
    "print(new_list[0])\n",
    "print(new_list[1])"
   ]
  },
  {
   "cell_type": "markdown",
   "id": "ba847c59",
   "metadata": {},
   "source": [
    "#### Python includes three important methods of program control."
   ]
  },
  {
   "cell_type": "code",
   "execution_count": 8,
   "id": "b53be3d0",
   "metadata": {},
   "outputs": [
    {
     "name": "stdout",
     "output_type": "stream",
     "text": [
      "a is greater than b\n"
     ]
    }
   ],
   "source": [
    "# if/then statements\n",
    "\n",
    "a = 5\n",
    "b = 3\n",
    "\n",
    "if a > b:\n",
    "    print('a is greater than b')\n",
    "elif a == b:\n",
    "    print('a is equal to b')\n",
    "else:\n",
    "    print('b is greater than a')\n",
    "    \n",
    "# Feel free to change the values of a and b to see what the output of the program is"
   ]
  },
  {
   "cell_type": "code",
   "execution_count": null,
   "id": "00234bac",
   "metadata": {},
   "outputs": [],
   "source": [
    "# while loops, execute while the condition is true\n",
    "\n",
    "i = 1\n",
    "while i < 5:\n",
    "    print(i)\n",
    "    i += 1"
   ]
  },
  {
   "cell_type": "code",
   "execution_count": 9,
   "id": "5152f6b4",
   "metadata": {},
   "outputs": [
    {
     "name": "stdout",
     "output_type": "stream",
     "text": [
      "q\n",
      "u\n",
      "a\n",
      "n\n",
      "t\n",
      "u\n",
      "m\n",
      "\n",
      "\n",
      "q\n",
      "a\n",
      "n\n",
      "t\n",
      "m\n",
      "\n",
      "\n",
      "q\n",
      "u\n",
      "a\n"
     ]
    }
   ],
   "source": [
    "# for loops, iterate over a sequence\n",
    "\n",
    "for i in 'quantum':\n",
    "    print(i)\n",
    "    \n",
    "print()\n",
    "print()\n",
    "    \n",
    "# continue and break can be used to skip one iteration of the loop or quit the loop, respectively\n",
    "\n",
    "for i in 'quantum':\n",
    "    if i == 'u':\n",
    "        continue\n",
    "    print(i)\n",
    "    \n",
    "print()\n",
    "print()\n",
    "\n",
    "for i in 'quantum':\n",
    "    if i == 'n':\n",
    "        break\n",
    "    print(i)"
   ]
  },
  {
   "cell_type": "code",
   "execution_count": null,
   "id": "55cd3930",
   "metadata": {},
   "outputs": [],
   "source": []
  }
 ],
 "metadata": {
  "kernelspec": {
   "display_name": "Python 3 (ipykernel)",
   "language": "python",
   "name": "python3"
  },
  "language_info": {
   "codemirror_mode": {
    "name": "ipython",
    "version": 3
   },
   "file_extension": ".py",
   "mimetype": "text/x-python",
   "name": "python",
   "nbconvert_exporter": "python",
   "pygments_lexer": "ipython3",
   "version": "3.11.1"
  }
 },
 "nbformat": 4,
 "nbformat_minor": 5
}
